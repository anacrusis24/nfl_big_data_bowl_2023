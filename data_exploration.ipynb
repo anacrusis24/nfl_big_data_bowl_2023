{
 "cells": [
  {
   "cell_type": "markdown",
   "metadata": {},
   "source": [
    "---------- data_exploration.ipynb ---------- \\\n",
    "Time    :  2022/11/04 23:07:38 \\\n",
    "Version :  1.0 \\\n",
    "Author  :  Austin Villegas \\\n",
    "Github  :  https://github.com/anacrusis24 \\\n",
    "Contact :  ajv131@gmail.com \\\n",
    "Desc    :  File explores NFL Big Bowl data and does data cleaning and feature engineering"
   ]
  },
  {
   "cell_type": "markdown",
   "metadata": {},
   "source": [
    "# Contents\n",
    "- [Plan](#plan) \n",
    "- [Libraries](#libraries) \n",
    "- [Load Data](#loaddata) \n",
    "- [Data Exploration](#dataexploration)\n",
    "    - [Data Head](#datahead) \n",
    "    - [Shape and NaN](#shapeandnan)"
   ]
  },
  {
   "cell_type": "markdown",
   "metadata": {},
   "source": [
    "<a id='plan'></a>\n",
    "# Plan \n",
    "\n",
    "**11/04/2022**\n",
    "1. Remove NaN \n",
    "2. Give justification for removal of NaN\n",
    "3. Add feature engineering to Contents\n",
    "4. Feature engineer to remove columns we don't need (university, jersey number, etc.)\n",
    "5. Give justification for removal of columns\n",
    "6. Add data visualization section to Contents\n",
    "7. Make data visualizations to best understand data (ideas could be table of sacks, pressures, etc.)\n",
    "8. Work on general idea! \"QB is the most important position, so the next most important positions are those that can go after the QB\". What factors determine sacks and pressures and what new stat will measure how well a player can get to the QB."
   ]
  },
  {
   "cell_type": "markdown",
   "metadata": {},
   "source": [
    "<a id='libraries'></a>\n",
    "# Libraries"
   ]
  },
  {
   "cell_type": "code",
   "execution_count": 1,
   "metadata": {},
   "outputs": [],
   "source": [
    "import os\n",
    "import pandas as pd\n",
    "import numpy as np \n",
    "import matplotlib.pyplot as pyplot\n",
    "import seaborn as sns\n",
    "from tqdm.auto import tqdm"
   ]
  },
  {
   "cell_type": "markdown",
   "metadata": {},
   "source": [
    "<a id='loaddata'></a>\n",
    "# Load Data"
   ]
  },
  {
   "cell_type": "code",
   "execution_count": 2,
   "metadata": {},
   "outputs": [
    {
     "name": "stdout",
     "output_type": "stream",
     "text": [
      "current directory c:\\Users\\Austin\\src\\nfl_big_data_bowl_2023\n",
      "new directory c:\\Users\\Austin\\src\\nfl_big_data_bowl_2023\\nfl-big-data-bowl-2023\n"
     ]
    }
   ],
   "source": [
    "# Find and set wd\n",
    "print('current directory', os.getcwd())\n",
    "new_path = os.path.join(os.getcwd(), 'nfl-big-data-bowl-2023')\n",
    "os.chdir(new_path)\n",
    "print('new directory', os.getcwd())"
   ]
  },
  {
   "cell_type": "code",
   "execution_count": 3,
   "metadata": {},
   "outputs": [],
   "source": [
    "# Load the data\n",
    "games = pd.read_csv('games.csv')\n",
    "scout = pd.read_csv('pffScoutingData.csv')\n",
    "plays = pd.read_csv('plays.csv')\n",
    "players = pd.read_csv('players.csv')\n",
    "week_1 = pd.read_csv('week1.csv')\n",
    "week_2 = pd.read_csv('week2.csv')\n",
    "week_3 = pd.read_csv('week3.csv')\n",
    "week_4 = pd.read_csv('week4.csv')\n",
    "week_5 = pd.read_csv('week5.csv')\n",
    "week_6 = pd.read_csv('week6.csv')\n",
    "week_7 = pd.read_csv('week7.csv')\n",
    "week_8 = pd.read_csv('week8.csv')"
   ]
  },
  {
   "cell_type": "markdown",
   "metadata": {},
   "source": [
    "<a id='dataexploration'></a>\n",
    "# Data Exploration"
   ]
  },
  {
   "cell_type": "markdown",
   "metadata": {},
   "source": [
    "<a id='datahead'></a>\n",
    "## Data Head"
   ]
  },
  {
   "cell_type": "code",
   "execution_count": 4,
   "metadata": {},
   "outputs": [
    {
     "data": {
      "text/html": [
       "<div>\n",
       "<style scoped>\n",
       "    .dataframe tbody tr th:only-of-type {\n",
       "        vertical-align: middle;\n",
       "    }\n",
       "\n",
       "    .dataframe tbody tr th {\n",
       "        vertical-align: top;\n",
       "    }\n",
       "\n",
       "    .dataframe thead th {\n",
       "        text-align: right;\n",
       "    }\n",
       "</style>\n",
       "<table border=\"1\" class=\"dataframe\">\n",
       "  <thead>\n",
       "    <tr style=\"text-align: right;\">\n",
       "      <th></th>\n",
       "      <th>gameId</th>\n",
       "      <th>season</th>\n",
       "      <th>week</th>\n",
       "      <th>gameDate</th>\n",
       "      <th>gameTimeEastern</th>\n",
       "      <th>homeTeamAbbr</th>\n",
       "      <th>visitorTeamAbbr</th>\n",
       "    </tr>\n",
       "  </thead>\n",
       "  <tbody>\n",
       "    <tr>\n",
       "      <th>0</th>\n",
       "      <td>2021090900</td>\n",
       "      <td>2021</td>\n",
       "      <td>1</td>\n",
       "      <td>09/09/2021</td>\n",
       "      <td>20:20:00</td>\n",
       "      <td>TB</td>\n",
       "      <td>DAL</td>\n",
       "    </tr>\n",
       "    <tr>\n",
       "      <th>1</th>\n",
       "      <td>2021091200</td>\n",
       "      <td>2021</td>\n",
       "      <td>1</td>\n",
       "      <td>09/12/2021</td>\n",
       "      <td>13:00:00</td>\n",
       "      <td>ATL</td>\n",
       "      <td>PHI</td>\n",
       "    </tr>\n",
       "    <tr>\n",
       "      <th>2</th>\n",
       "      <td>2021091201</td>\n",
       "      <td>2021</td>\n",
       "      <td>1</td>\n",
       "      <td>09/12/2021</td>\n",
       "      <td>13:00:00</td>\n",
       "      <td>BUF</td>\n",
       "      <td>PIT</td>\n",
       "    </tr>\n",
       "    <tr>\n",
       "      <th>3</th>\n",
       "      <td>2021091202</td>\n",
       "      <td>2021</td>\n",
       "      <td>1</td>\n",
       "      <td>09/12/2021</td>\n",
       "      <td>13:00:00</td>\n",
       "      <td>CAR</td>\n",
       "      <td>NYJ</td>\n",
       "    </tr>\n",
       "    <tr>\n",
       "      <th>4</th>\n",
       "      <td>2021091203</td>\n",
       "      <td>2021</td>\n",
       "      <td>1</td>\n",
       "      <td>09/12/2021</td>\n",
       "      <td>13:00:00</td>\n",
       "      <td>CIN</td>\n",
       "      <td>MIN</td>\n",
       "    </tr>\n",
       "  </tbody>\n",
       "</table>\n",
       "</div>"
      ],
      "text/plain": [
       "       gameId  season  week    gameDate gameTimeEastern homeTeamAbbr  \\\n",
       "0  2021090900    2021     1  09/09/2021        20:20:00           TB   \n",
       "1  2021091200    2021     1  09/12/2021        13:00:00          ATL   \n",
       "2  2021091201    2021     1  09/12/2021        13:00:00          BUF   \n",
       "3  2021091202    2021     1  09/12/2021        13:00:00          CAR   \n",
       "4  2021091203    2021     1  09/12/2021        13:00:00          CIN   \n",
       "\n",
       "  visitorTeamAbbr  \n",
       "0             DAL  \n",
       "1             PHI  \n",
       "2             PIT  \n",
       "3             NYJ  \n",
       "4             MIN  "
      ]
     },
     "execution_count": 4,
     "metadata": {},
     "output_type": "execute_result"
    }
   ],
   "source": [
    "games.head()"
   ]
  },
  {
   "cell_type": "code",
   "execution_count": 5,
   "metadata": {},
   "outputs": [
    {
     "data": {
      "text/html": [
       "<div>\n",
       "<style scoped>\n",
       "    .dataframe tbody tr th:only-of-type {\n",
       "        vertical-align: middle;\n",
       "    }\n",
       "\n",
       "    .dataframe tbody tr th {\n",
       "        vertical-align: top;\n",
       "    }\n",
       "\n",
       "    .dataframe thead th {\n",
       "        text-align: right;\n",
       "    }\n",
       "</style>\n",
       "<table border=\"1\" class=\"dataframe\">\n",
       "  <thead>\n",
       "    <tr style=\"text-align: right;\">\n",
       "      <th></th>\n",
       "      <th>gameId</th>\n",
       "      <th>playId</th>\n",
       "      <th>nflId</th>\n",
       "      <th>pff_role</th>\n",
       "      <th>pff_positionLinedUp</th>\n",
       "      <th>pff_hit</th>\n",
       "      <th>pff_hurry</th>\n",
       "      <th>pff_sack</th>\n",
       "      <th>pff_beatenByDefender</th>\n",
       "      <th>pff_hitAllowed</th>\n",
       "      <th>pff_hurryAllowed</th>\n",
       "      <th>pff_sackAllowed</th>\n",
       "      <th>pff_nflIdBlockedPlayer</th>\n",
       "      <th>pff_blockType</th>\n",
       "      <th>pff_backFieldBlock</th>\n",
       "    </tr>\n",
       "  </thead>\n",
       "  <tbody>\n",
       "    <tr>\n",
       "      <th>0</th>\n",
       "      <td>2021090900</td>\n",
       "      <td>97</td>\n",
       "      <td>25511</td>\n",
       "      <td>Pass</td>\n",
       "      <td>QB</td>\n",
       "      <td>NaN</td>\n",
       "      <td>NaN</td>\n",
       "      <td>NaN</td>\n",
       "      <td>NaN</td>\n",
       "      <td>NaN</td>\n",
       "      <td>NaN</td>\n",
       "      <td>NaN</td>\n",
       "      <td>NaN</td>\n",
       "      <td>NaN</td>\n",
       "      <td>NaN</td>\n",
       "    </tr>\n",
       "    <tr>\n",
       "      <th>1</th>\n",
       "      <td>2021090900</td>\n",
       "      <td>97</td>\n",
       "      <td>35481</td>\n",
       "      <td>Pass Route</td>\n",
       "      <td>TE-L</td>\n",
       "      <td>NaN</td>\n",
       "      <td>NaN</td>\n",
       "      <td>NaN</td>\n",
       "      <td>NaN</td>\n",
       "      <td>NaN</td>\n",
       "      <td>NaN</td>\n",
       "      <td>NaN</td>\n",
       "      <td>NaN</td>\n",
       "      <td>NaN</td>\n",
       "      <td>NaN</td>\n",
       "    </tr>\n",
       "    <tr>\n",
       "      <th>2</th>\n",
       "      <td>2021090900</td>\n",
       "      <td>97</td>\n",
       "      <td>35634</td>\n",
       "      <td>Pass Route</td>\n",
       "      <td>LWR</td>\n",
       "      <td>NaN</td>\n",
       "      <td>NaN</td>\n",
       "      <td>NaN</td>\n",
       "      <td>NaN</td>\n",
       "      <td>NaN</td>\n",
       "      <td>NaN</td>\n",
       "      <td>NaN</td>\n",
       "      <td>NaN</td>\n",
       "      <td>NaN</td>\n",
       "      <td>NaN</td>\n",
       "    </tr>\n",
       "    <tr>\n",
       "      <th>3</th>\n",
       "      <td>2021090900</td>\n",
       "      <td>97</td>\n",
       "      <td>39985</td>\n",
       "      <td>Pass Route</td>\n",
       "      <td>HB-R</td>\n",
       "      <td>NaN</td>\n",
       "      <td>NaN</td>\n",
       "      <td>NaN</td>\n",
       "      <td>NaN</td>\n",
       "      <td>NaN</td>\n",
       "      <td>NaN</td>\n",
       "      <td>NaN</td>\n",
       "      <td>NaN</td>\n",
       "      <td>NaN</td>\n",
       "      <td>NaN</td>\n",
       "    </tr>\n",
       "    <tr>\n",
       "      <th>4</th>\n",
       "      <td>2021090900</td>\n",
       "      <td>97</td>\n",
       "      <td>40151</td>\n",
       "      <td>Pass Block</td>\n",
       "      <td>C</td>\n",
       "      <td>NaN</td>\n",
       "      <td>NaN</td>\n",
       "      <td>NaN</td>\n",
       "      <td>0.0</td>\n",
       "      <td>0.0</td>\n",
       "      <td>0.0</td>\n",
       "      <td>0.0</td>\n",
       "      <td>44955.0</td>\n",
       "      <td>SW</td>\n",
       "      <td>0.0</td>\n",
       "    </tr>\n",
       "  </tbody>\n",
       "</table>\n",
       "</div>"
      ],
      "text/plain": [
       "       gameId  playId  nflId    pff_role pff_positionLinedUp  pff_hit  \\\n",
       "0  2021090900      97  25511        Pass                  QB      NaN   \n",
       "1  2021090900      97  35481  Pass Route                TE-L      NaN   \n",
       "2  2021090900      97  35634  Pass Route                 LWR      NaN   \n",
       "3  2021090900      97  39985  Pass Route                HB-R      NaN   \n",
       "4  2021090900      97  40151  Pass Block                   C      NaN   \n",
       "\n",
       "   pff_hurry  pff_sack  pff_beatenByDefender  pff_hitAllowed  \\\n",
       "0        NaN       NaN                   NaN             NaN   \n",
       "1        NaN       NaN                   NaN             NaN   \n",
       "2        NaN       NaN                   NaN             NaN   \n",
       "3        NaN       NaN                   NaN             NaN   \n",
       "4        NaN       NaN                   0.0             0.0   \n",
       "\n",
       "   pff_hurryAllowed  pff_sackAllowed  pff_nflIdBlockedPlayer pff_blockType  \\\n",
       "0               NaN              NaN                     NaN           NaN   \n",
       "1               NaN              NaN                     NaN           NaN   \n",
       "2               NaN              NaN                     NaN           NaN   \n",
       "3               NaN              NaN                     NaN           NaN   \n",
       "4               0.0              0.0                 44955.0            SW   \n",
       "\n",
       "   pff_backFieldBlock  \n",
       "0                 NaN  \n",
       "1                 NaN  \n",
       "2                 NaN  \n",
       "3                 NaN  \n",
       "4                 0.0  "
      ]
     },
     "execution_count": 5,
     "metadata": {},
     "output_type": "execute_result"
    }
   ],
   "source": [
    "scout.head()"
   ]
  },
  {
   "cell_type": "code",
   "execution_count": 6,
   "metadata": {},
   "outputs": [
    {
     "data": {
      "text/html": [
       "<div>\n",
       "<style scoped>\n",
       "    .dataframe tbody tr th:only-of-type {\n",
       "        vertical-align: middle;\n",
       "    }\n",
       "\n",
       "    .dataframe tbody tr th {\n",
       "        vertical-align: top;\n",
       "    }\n",
       "\n",
       "    .dataframe thead th {\n",
       "        text-align: right;\n",
       "    }\n",
       "</style>\n",
       "<table border=\"1\" class=\"dataframe\">\n",
       "  <thead>\n",
       "    <tr style=\"text-align: right;\">\n",
       "      <th></th>\n",
       "      <th>gameId</th>\n",
       "      <th>playId</th>\n",
       "      <th>playDescription</th>\n",
       "      <th>quarter</th>\n",
       "      <th>down</th>\n",
       "      <th>yardsToGo</th>\n",
       "      <th>possessionTeam</th>\n",
       "      <th>defensiveTeam</th>\n",
       "      <th>yardlineSide</th>\n",
       "      <th>yardlineNumber</th>\n",
       "      <th>...</th>\n",
       "      <th>foulNFLId3</th>\n",
       "      <th>absoluteYardlineNumber</th>\n",
       "      <th>offenseFormation</th>\n",
       "      <th>personnelO</th>\n",
       "      <th>defendersInBox</th>\n",
       "      <th>personnelD</th>\n",
       "      <th>dropBackType</th>\n",
       "      <th>pff_playAction</th>\n",
       "      <th>pff_passCoverage</th>\n",
       "      <th>pff_passCoverageType</th>\n",
       "    </tr>\n",
       "  </thead>\n",
       "  <tbody>\n",
       "    <tr>\n",
       "      <th>0</th>\n",
       "      <td>2021090900</td>\n",
       "      <td>97</td>\n",
       "      <td>(13:33) (Shotgun) T.Brady pass incomplete deep...</td>\n",
       "      <td>1</td>\n",
       "      <td>3</td>\n",
       "      <td>2</td>\n",
       "      <td>TB</td>\n",
       "      <td>DAL</td>\n",
       "      <td>TB</td>\n",
       "      <td>33</td>\n",
       "      <td>...</td>\n",
       "      <td>NaN</td>\n",
       "      <td>43.0</td>\n",
       "      <td>SHOTGUN</td>\n",
       "      <td>1 RB, 1 TE, 3 WR</td>\n",
       "      <td>6.0</td>\n",
       "      <td>4 DL, 2 LB, 5 DB</td>\n",
       "      <td>TRADITIONAL</td>\n",
       "      <td>0</td>\n",
       "      <td>Cover-1</td>\n",
       "      <td>Man</td>\n",
       "    </tr>\n",
       "    <tr>\n",
       "      <th>1</th>\n",
       "      <td>2021090900</td>\n",
       "      <td>137</td>\n",
       "      <td>(13:18) (Shotgun) D.Prescott pass deep left to...</td>\n",
       "      <td>1</td>\n",
       "      <td>1</td>\n",
       "      <td>10</td>\n",
       "      <td>DAL</td>\n",
       "      <td>TB</td>\n",
       "      <td>DAL</td>\n",
       "      <td>2</td>\n",
       "      <td>...</td>\n",
       "      <td>NaN</td>\n",
       "      <td>108.0</td>\n",
       "      <td>EMPTY</td>\n",
       "      <td>1 RB, 2 TE, 2 WR</td>\n",
       "      <td>6.0</td>\n",
       "      <td>4 DL, 4 LB, 3 DB</td>\n",
       "      <td>TRADITIONAL</td>\n",
       "      <td>0</td>\n",
       "      <td>Cover-3</td>\n",
       "      <td>Zone</td>\n",
       "    </tr>\n",
       "    <tr>\n",
       "      <th>2</th>\n",
       "      <td>2021090900</td>\n",
       "      <td>187</td>\n",
       "      <td>(12:23) (Shotgun) D.Prescott pass short middle...</td>\n",
       "      <td>1</td>\n",
       "      <td>2</td>\n",
       "      <td>6</td>\n",
       "      <td>DAL</td>\n",
       "      <td>TB</td>\n",
       "      <td>DAL</td>\n",
       "      <td>34</td>\n",
       "      <td>...</td>\n",
       "      <td>NaN</td>\n",
       "      <td>76.0</td>\n",
       "      <td>SHOTGUN</td>\n",
       "      <td>0 RB, 2 TE, 3 WR</td>\n",
       "      <td>6.0</td>\n",
       "      <td>3 DL, 3 LB, 5 DB</td>\n",
       "      <td>TRADITIONAL</td>\n",
       "      <td>0</td>\n",
       "      <td>Cover-3</td>\n",
       "      <td>Zone</td>\n",
       "    </tr>\n",
       "    <tr>\n",
       "      <th>3</th>\n",
       "      <td>2021090900</td>\n",
       "      <td>282</td>\n",
       "      <td>(9:56) D.Prescott pass incomplete deep left to...</td>\n",
       "      <td>1</td>\n",
       "      <td>1</td>\n",
       "      <td>10</td>\n",
       "      <td>DAL</td>\n",
       "      <td>TB</td>\n",
       "      <td>TB</td>\n",
       "      <td>39</td>\n",
       "      <td>...</td>\n",
       "      <td>NaN</td>\n",
       "      <td>49.0</td>\n",
       "      <td>SINGLEBACK</td>\n",
       "      <td>1 RB, 2 TE, 2 WR</td>\n",
       "      <td>6.0</td>\n",
       "      <td>4 DL, 3 LB, 4 DB</td>\n",
       "      <td>TRADITIONAL</td>\n",
       "      <td>1</td>\n",
       "      <td>Cover-3</td>\n",
       "      <td>Zone</td>\n",
       "    </tr>\n",
       "    <tr>\n",
       "      <th>4</th>\n",
       "      <td>2021090900</td>\n",
       "      <td>349</td>\n",
       "      <td>(9:46) (Shotgun) D.Prescott pass incomplete sh...</td>\n",
       "      <td>1</td>\n",
       "      <td>3</td>\n",
       "      <td>15</td>\n",
       "      <td>DAL</td>\n",
       "      <td>TB</td>\n",
       "      <td>TB</td>\n",
       "      <td>44</td>\n",
       "      <td>...</td>\n",
       "      <td>NaN</td>\n",
       "      <td>54.0</td>\n",
       "      <td>SHOTGUN</td>\n",
       "      <td>1 RB, 1 TE, 3 WR</td>\n",
       "      <td>7.0</td>\n",
       "      <td>3 DL, 4 LB, 4 DB</td>\n",
       "      <td>TRADITIONAL</td>\n",
       "      <td>0</td>\n",
       "      <td>Cover-3</td>\n",
       "      <td>Zone</td>\n",
       "    </tr>\n",
       "  </tbody>\n",
       "</table>\n",
       "<p>5 rows × 32 columns</p>\n",
       "</div>"
      ],
      "text/plain": [
       "       gameId  playId                                    playDescription  \\\n",
       "0  2021090900      97  (13:33) (Shotgun) T.Brady pass incomplete deep...   \n",
       "1  2021090900     137  (13:18) (Shotgun) D.Prescott pass deep left to...   \n",
       "2  2021090900     187  (12:23) (Shotgun) D.Prescott pass short middle...   \n",
       "3  2021090900     282  (9:56) D.Prescott pass incomplete deep left to...   \n",
       "4  2021090900     349  (9:46) (Shotgun) D.Prescott pass incomplete sh...   \n",
       "\n",
       "   quarter  down  yardsToGo possessionTeam defensiveTeam yardlineSide  \\\n",
       "0        1     3          2             TB           DAL           TB   \n",
       "1        1     1         10            DAL            TB          DAL   \n",
       "2        1     2          6            DAL            TB          DAL   \n",
       "3        1     1         10            DAL            TB           TB   \n",
       "4        1     3         15            DAL            TB           TB   \n",
       "\n",
       "   yardlineNumber  ... foulNFLId3  absoluteYardlineNumber  offenseFormation  \\\n",
       "0              33  ...        NaN                    43.0           SHOTGUN   \n",
       "1               2  ...        NaN                   108.0             EMPTY   \n",
       "2              34  ...        NaN                    76.0           SHOTGUN   \n",
       "3              39  ...        NaN                    49.0        SINGLEBACK   \n",
       "4              44  ...        NaN                    54.0           SHOTGUN   \n",
       "\n",
       "         personnelO  defendersInBox        personnelD  dropBackType  \\\n",
       "0  1 RB, 1 TE, 3 WR             6.0  4 DL, 2 LB, 5 DB   TRADITIONAL   \n",
       "1  1 RB, 2 TE, 2 WR             6.0  4 DL, 4 LB, 3 DB   TRADITIONAL   \n",
       "2  0 RB, 2 TE, 3 WR             6.0  3 DL, 3 LB, 5 DB   TRADITIONAL   \n",
       "3  1 RB, 2 TE, 2 WR             6.0  4 DL, 3 LB, 4 DB   TRADITIONAL   \n",
       "4  1 RB, 1 TE, 3 WR             7.0  3 DL, 4 LB, 4 DB   TRADITIONAL   \n",
       "\n",
       "  pff_playAction  pff_passCoverage pff_passCoverageType  \n",
       "0              0           Cover-1                  Man  \n",
       "1              0           Cover-3                 Zone  \n",
       "2              0           Cover-3                 Zone  \n",
       "3              1           Cover-3                 Zone  \n",
       "4              0           Cover-3                 Zone  \n",
       "\n",
       "[5 rows x 32 columns]"
      ]
     },
     "execution_count": 6,
     "metadata": {},
     "output_type": "execute_result"
    }
   ],
   "source": [
    "plays.head()"
   ]
  },
  {
   "cell_type": "code",
   "execution_count": 7,
   "metadata": {},
   "outputs": [
    {
     "data": {
      "text/html": [
       "<div>\n",
       "<style scoped>\n",
       "    .dataframe tbody tr th:only-of-type {\n",
       "        vertical-align: middle;\n",
       "    }\n",
       "\n",
       "    .dataframe tbody tr th {\n",
       "        vertical-align: top;\n",
       "    }\n",
       "\n",
       "    .dataframe thead th {\n",
       "        text-align: right;\n",
       "    }\n",
       "</style>\n",
       "<table border=\"1\" class=\"dataframe\">\n",
       "  <thead>\n",
       "    <tr style=\"text-align: right;\">\n",
       "      <th></th>\n",
       "      <th>nflId</th>\n",
       "      <th>height</th>\n",
       "      <th>weight</th>\n",
       "      <th>birthDate</th>\n",
       "      <th>collegeName</th>\n",
       "      <th>officialPosition</th>\n",
       "      <th>displayName</th>\n",
       "    </tr>\n",
       "  </thead>\n",
       "  <tbody>\n",
       "    <tr>\n",
       "      <th>0</th>\n",
       "      <td>25511</td>\n",
       "      <td>6-4</td>\n",
       "      <td>225</td>\n",
       "      <td>1977-08-03</td>\n",
       "      <td>Michigan</td>\n",
       "      <td>QB</td>\n",
       "      <td>Tom Brady</td>\n",
       "    </tr>\n",
       "    <tr>\n",
       "      <th>1</th>\n",
       "      <td>28963</td>\n",
       "      <td>6-5</td>\n",
       "      <td>240</td>\n",
       "      <td>1982-03-02</td>\n",
       "      <td>Miami, O.</td>\n",
       "      <td>QB</td>\n",
       "      <td>Ben Roethlisberger</td>\n",
       "    </tr>\n",
       "    <tr>\n",
       "      <th>2</th>\n",
       "      <td>29550</td>\n",
       "      <td>6-4</td>\n",
       "      <td>328</td>\n",
       "      <td>1982-01-22</td>\n",
       "      <td>Arkansas</td>\n",
       "      <td>T</td>\n",
       "      <td>Jason Peters</td>\n",
       "    </tr>\n",
       "    <tr>\n",
       "      <th>3</th>\n",
       "      <td>29851</td>\n",
       "      <td>6-2</td>\n",
       "      <td>225</td>\n",
       "      <td>1983-12-02</td>\n",
       "      <td>California</td>\n",
       "      <td>QB</td>\n",
       "      <td>Aaron Rodgers</td>\n",
       "    </tr>\n",
       "    <tr>\n",
       "      <th>4</th>\n",
       "      <td>30078</td>\n",
       "      <td>6-2</td>\n",
       "      <td>228</td>\n",
       "      <td>1982-11-24</td>\n",
       "      <td>Harvard</td>\n",
       "      <td>QB</td>\n",
       "      <td>Ryan Fitzpatrick</td>\n",
       "    </tr>\n",
       "  </tbody>\n",
       "</table>\n",
       "</div>"
      ],
      "text/plain": [
       "   nflId height  weight   birthDate collegeName officialPosition  \\\n",
       "0  25511    6-4     225  1977-08-03    Michigan               QB   \n",
       "1  28963    6-5     240  1982-03-02   Miami, O.               QB   \n",
       "2  29550    6-4     328  1982-01-22    Arkansas                T   \n",
       "3  29851    6-2     225  1983-12-02  California               QB   \n",
       "4  30078    6-2     228  1982-11-24     Harvard               QB   \n",
       "\n",
       "          displayName  \n",
       "0           Tom Brady  \n",
       "1  Ben Roethlisberger  \n",
       "2        Jason Peters  \n",
       "3       Aaron Rodgers  \n",
       "4    Ryan Fitzpatrick  "
      ]
     },
     "execution_count": 7,
     "metadata": {},
     "output_type": "execute_result"
    }
   ],
   "source": [
    "players.head()"
   ]
  },
  {
   "cell_type": "code",
   "execution_count": 8,
   "metadata": {},
   "outputs": [
    {
     "data": {
      "text/html": [
       "<div>\n",
       "<style scoped>\n",
       "    .dataframe tbody tr th:only-of-type {\n",
       "        vertical-align: middle;\n",
       "    }\n",
       "\n",
       "    .dataframe tbody tr th {\n",
       "        vertical-align: top;\n",
       "    }\n",
       "\n",
       "    .dataframe thead th {\n",
       "        text-align: right;\n",
       "    }\n",
       "</style>\n",
       "<table border=\"1\" class=\"dataframe\">\n",
       "  <thead>\n",
       "    <tr style=\"text-align: right;\">\n",
       "      <th></th>\n",
       "      <th>gameId</th>\n",
       "      <th>playId</th>\n",
       "      <th>nflId</th>\n",
       "      <th>frameId</th>\n",
       "      <th>time</th>\n",
       "      <th>jerseyNumber</th>\n",
       "      <th>team</th>\n",
       "      <th>playDirection</th>\n",
       "      <th>x</th>\n",
       "      <th>y</th>\n",
       "      <th>s</th>\n",
       "      <th>a</th>\n",
       "      <th>dis</th>\n",
       "      <th>o</th>\n",
       "      <th>dir</th>\n",
       "      <th>event</th>\n",
       "    </tr>\n",
       "  </thead>\n",
       "  <tbody>\n",
       "    <tr>\n",
       "      <th>0</th>\n",
       "      <td>2021090900</td>\n",
       "      <td>97</td>\n",
       "      <td>25511.0</td>\n",
       "      <td>1</td>\n",
       "      <td>2021-09-10T00:26:31.100</td>\n",
       "      <td>12.0</td>\n",
       "      <td>TB</td>\n",
       "      <td>right</td>\n",
       "      <td>37.77</td>\n",
       "      <td>24.22</td>\n",
       "      <td>0.29</td>\n",
       "      <td>0.30</td>\n",
       "      <td>0.03</td>\n",
       "      <td>165.16</td>\n",
       "      <td>84.99</td>\n",
       "      <td>None</td>\n",
       "    </tr>\n",
       "    <tr>\n",
       "      <th>1</th>\n",
       "      <td>2021090900</td>\n",
       "      <td>97</td>\n",
       "      <td>25511.0</td>\n",
       "      <td>2</td>\n",
       "      <td>2021-09-10T00:26:31.200</td>\n",
       "      <td>12.0</td>\n",
       "      <td>TB</td>\n",
       "      <td>right</td>\n",
       "      <td>37.78</td>\n",
       "      <td>24.22</td>\n",
       "      <td>0.23</td>\n",
       "      <td>0.11</td>\n",
       "      <td>0.02</td>\n",
       "      <td>164.33</td>\n",
       "      <td>92.87</td>\n",
       "      <td>None</td>\n",
       "    </tr>\n",
       "    <tr>\n",
       "      <th>2</th>\n",
       "      <td>2021090900</td>\n",
       "      <td>97</td>\n",
       "      <td>25511.0</td>\n",
       "      <td>3</td>\n",
       "      <td>2021-09-10T00:26:31.300</td>\n",
       "      <td>12.0</td>\n",
       "      <td>TB</td>\n",
       "      <td>right</td>\n",
       "      <td>37.78</td>\n",
       "      <td>24.24</td>\n",
       "      <td>0.16</td>\n",
       "      <td>0.10</td>\n",
       "      <td>0.01</td>\n",
       "      <td>160.24</td>\n",
       "      <td>68.55</td>\n",
       "      <td>None</td>\n",
       "    </tr>\n",
       "    <tr>\n",
       "      <th>3</th>\n",
       "      <td>2021090900</td>\n",
       "      <td>97</td>\n",
       "      <td>25511.0</td>\n",
       "      <td>4</td>\n",
       "      <td>2021-09-10T00:26:31.400</td>\n",
       "      <td>12.0</td>\n",
       "      <td>TB</td>\n",
       "      <td>right</td>\n",
       "      <td>37.73</td>\n",
       "      <td>24.25</td>\n",
       "      <td>0.15</td>\n",
       "      <td>0.24</td>\n",
       "      <td>0.06</td>\n",
       "      <td>152.13</td>\n",
       "      <td>296.85</td>\n",
       "      <td>None</td>\n",
       "    </tr>\n",
       "    <tr>\n",
       "      <th>4</th>\n",
       "      <td>2021090900</td>\n",
       "      <td>97</td>\n",
       "      <td>25511.0</td>\n",
       "      <td>5</td>\n",
       "      <td>2021-09-10T00:26:31.500</td>\n",
       "      <td>12.0</td>\n",
       "      <td>TB</td>\n",
       "      <td>right</td>\n",
       "      <td>37.69</td>\n",
       "      <td>24.26</td>\n",
       "      <td>0.25</td>\n",
       "      <td>0.18</td>\n",
       "      <td>0.04</td>\n",
       "      <td>148.33</td>\n",
       "      <td>287.55</td>\n",
       "      <td>None</td>\n",
       "    </tr>\n",
       "  </tbody>\n",
       "</table>\n",
       "</div>"
      ],
      "text/plain": [
       "       gameId  playId    nflId  frameId                     time  \\\n",
       "0  2021090900      97  25511.0        1  2021-09-10T00:26:31.100   \n",
       "1  2021090900      97  25511.0        2  2021-09-10T00:26:31.200   \n",
       "2  2021090900      97  25511.0        3  2021-09-10T00:26:31.300   \n",
       "3  2021090900      97  25511.0        4  2021-09-10T00:26:31.400   \n",
       "4  2021090900      97  25511.0        5  2021-09-10T00:26:31.500   \n",
       "\n",
       "   jerseyNumber team playDirection      x      y     s     a   dis       o  \\\n",
       "0          12.0   TB         right  37.77  24.22  0.29  0.30  0.03  165.16   \n",
       "1          12.0   TB         right  37.78  24.22  0.23  0.11  0.02  164.33   \n",
       "2          12.0   TB         right  37.78  24.24  0.16  0.10  0.01  160.24   \n",
       "3          12.0   TB         right  37.73  24.25  0.15  0.24  0.06  152.13   \n",
       "4          12.0   TB         right  37.69  24.26  0.25  0.18  0.04  148.33   \n",
       "\n",
       "      dir event  \n",
       "0   84.99  None  \n",
       "1   92.87  None  \n",
       "2   68.55  None  \n",
       "3  296.85  None  \n",
       "4  287.55  None  "
      ]
     },
     "execution_count": 8,
     "metadata": {},
     "output_type": "execute_result"
    }
   ],
   "source": [
    "week_1.head()"
   ]
  },
  {
   "cell_type": "markdown",
   "metadata": {},
   "source": [
    "<a id='shapeandnan'></a>\n",
    "## Shape and NaN"
   ]
  },
  {
   "cell_type": "code",
   "execution_count": 9,
   "metadata": {},
   "outputs": [
    {
     "name": "stdout",
     "output_type": "stream",
     "text": [
      "games: (122, 7)\n",
      "scout: (188254, 15)\n",
      "plays: (8557, 32)\n",
      "players: (1679, 7)\n",
      "week_1: (1118122, 16)\n",
      "week_2: (1042774, 16)\n",
      "week_3: (1121825, 16)\n",
      "week_4: (1074606, 16)\n",
      "week_5: (1097813, 16)\n",
      "week_6: (973797, 16)\n",
      "week_7: (906292, 16)\n",
      "week_8: (978949, 16)\n"
     ]
    }
   ],
   "source": [
    "print('games:', games.shape)\n",
    "print('scout:', scout.shape)\n",
    "print('plays:', plays.shape)\n",
    "print('players:', players.shape)\n",
    "print('week_1:', week_1.shape)\n",
    "print('week_2:', week_2.shape)\n",
    "print('week_3:', week_3.shape)\n",
    "print('week_4:', week_4.shape)\n",
    "print('week_5:', week_5.shape)\n",
    "print('week_6:', week_6.shape)\n",
    "print('week_7:', week_7.shape)\n",
    "print('week_8:', week_8.shape)"
   ]
  },
  {
   "cell_type": "code",
   "execution_count": 10,
   "metadata": {},
   "outputs": [
    {
     "data": {
      "text/plain": [
       "Series([], dtype: int64)"
      ]
     },
     "execution_count": 10,
     "metadata": {},
     "output_type": "execute_result"
    }
   ],
   "source": [
    "games.isna().sum(axis=0)[games.isna().sum(axis=0) > 0]"
   ]
  },
  {
   "cell_type": "code",
   "execution_count": 11,
   "metadata": {},
   "outputs": [
    {
     "data": {
      "text/plain": [
       "pff_hit                    94127\n",
       "pff_hurry                  94127\n",
       "pff_sack                   94127\n",
       "pff_beatenByDefender      140167\n",
       "pff_hitAllowed            140167\n",
       "pff_hurryAllowed          140167\n",
       "pff_sackAllowed           140167\n",
       "pff_nflIdBlockedPlayer    141728\n",
       "pff_blockType             140350\n",
       "pff_backFieldBlock        140351\n",
       "dtype: int64"
      ]
     },
     "execution_count": 11,
     "metadata": {},
     "output_type": "execute_result"
    }
   ],
   "source": [
    "scout.isna().sum(axis=0)[scout.isna().sum(axis=0) > 0]"
   ]
  },
  {
   "cell_type": "code",
   "execution_count": 12,
   "metadata": {},
   "outputs": [
    {
     "data": {
      "text/plain": [
       "yardlineSide               125\n",
       "penaltyYards              7801\n",
       "foulName1                 7821\n",
       "foulNFLId1                7821\n",
       "foulName2                 8527\n",
       "foulNFLId2                8527\n",
       "foulName3                 8556\n",
       "foulNFLId3                8556\n",
       "absoluteYardlineNumber       1\n",
       "offenseFormation             7\n",
       "personnelO                   1\n",
       "defendersInBox               7\n",
       "personnelD                   1\n",
       "dropBackType               528\n",
       "dtype: int64"
      ]
     },
     "execution_count": 12,
     "metadata": {},
     "output_type": "execute_result"
    }
   ],
   "source": [
    "plays.isna().sum(axis=0)[plays.isna().sum(axis=0) > 0]"
   ]
  },
  {
   "cell_type": "code",
   "execution_count": 13,
   "metadata": {},
   "outputs": [
    {
     "data": {
      "text/plain": [
       "birthDate      232\n",
       "collegeName    224\n",
       "dtype: int64"
      ]
     },
     "execution_count": 13,
     "metadata": {},
     "output_type": "execute_result"
    }
   ],
   "source": [
    "players.isna().sum(axis=0)[players.isna().sum(axis=0) > 0]"
   ]
  },
  {
   "cell_type": "code",
   "execution_count": 14,
   "metadata": {},
   "outputs": [
    {
     "data": {
      "text/plain": [
       "nflId           48614\n",
       "jerseyNumber    48614\n",
       "o               48614\n",
       "dir             48614\n",
       "dtype: int64"
      ]
     },
     "execution_count": 14,
     "metadata": {},
     "output_type": "execute_result"
    }
   ],
   "source": [
    "week_1.isna().sum(axis=0)[week_1.isna().sum(axis=0) > 0]"
   ]
  },
  {
   "cell_type": "code",
   "execution_count": 15,
   "metadata": {},
   "outputs": [
    {
     "data": {
      "text/plain": [
       "nflId           45338\n",
       "jerseyNumber    45338\n",
       "o               45338\n",
       "dir             45338\n",
       "dtype: int64"
      ]
     },
     "execution_count": 15,
     "metadata": {},
     "output_type": "execute_result"
    }
   ],
   "source": [
    "week_2.isna().sum(axis=0)[week_2.isna().sum(axis=0) > 0]"
   ]
  },
  {
   "cell_type": "code",
   "execution_count": 16,
   "metadata": {},
   "outputs": [
    {
     "data": {
      "text/plain": [
       "nflId           48775\n",
       "jerseyNumber    48775\n",
       "o               48775\n",
       "dir             48775\n",
       "dtype: int64"
      ]
     },
     "execution_count": 16,
     "metadata": {},
     "output_type": "execute_result"
    }
   ],
   "source": [
    "week_3.isna().sum(axis=0)[week_3.isna().sum(axis=0) > 0]"
   ]
  },
  {
   "cell_type": "code",
   "execution_count": 17,
   "metadata": {},
   "outputs": [
    {
     "data": {
      "text/plain": [
       "nflId           48775\n",
       "jerseyNumber    48775\n",
       "o               48775\n",
       "dir             48775\n",
       "dtype: int64"
      ]
     },
     "execution_count": 17,
     "metadata": {},
     "output_type": "execute_result"
    }
   ],
   "source": [
    "week_3.isna().sum(axis=0)[week_3.isna().sum(axis=0) > 0]"
   ]
  },
  {
   "cell_type": "code",
   "execution_count": 18,
   "metadata": {},
   "outputs": [
    {
     "data": {
      "text/plain": [
       "nflId           46722\n",
       "jerseyNumber    46722\n",
       "o               46722\n",
       "dir             46722\n",
       "dtype: int64"
      ]
     },
     "execution_count": 18,
     "metadata": {},
     "output_type": "execute_result"
    }
   ],
   "source": [
    "week_4.isna().sum(axis=0)[week_4.isna().sum(axis=0) > 0]"
   ]
  },
  {
   "cell_type": "code",
   "execution_count": 19,
   "metadata": {},
   "outputs": [
    {
     "data": {
      "text/plain": [
       "nflId           47731\n",
       "jerseyNumber    47731\n",
       "o               47731\n",
       "dir             47731\n",
       "dtype: int64"
      ]
     },
     "execution_count": 19,
     "metadata": {},
     "output_type": "execute_result"
    }
   ],
   "source": [
    "week_5.isna().sum(axis=0)[week_5.isna().sum(axis=0) > 0]"
   ]
  },
  {
   "cell_type": "code",
   "execution_count": 20,
   "metadata": {},
   "outputs": [
    {
     "data": {
      "text/plain": [
       "nflId           42339\n",
       "jerseyNumber    42339\n",
       "o               42339\n",
       "dir             42339\n",
       "dtype: int64"
      ]
     },
     "execution_count": 20,
     "metadata": {},
     "output_type": "execute_result"
    }
   ],
   "source": [
    "week_6.isna().sum(axis=0)[week_6.isna().sum(axis=0) > 0]"
   ]
  },
  {
   "cell_type": "code",
   "execution_count": 21,
   "metadata": {},
   "outputs": [
    {
     "data": {
      "text/plain": [
       "nflId           39404\n",
       "jerseyNumber    39404\n",
       "o               39404\n",
       "dir             39404\n",
       "dtype: int64"
      ]
     },
     "execution_count": 21,
     "metadata": {},
     "output_type": "execute_result"
    }
   ],
   "source": [
    "week_7.isna().sum(axis=0)[week_7.isna().sum(axis=0) > 0]"
   ]
  },
  {
   "cell_type": "code",
   "execution_count": 22,
   "metadata": {},
   "outputs": [
    {
     "data": {
      "text/plain": [
       "nflId           42563\n",
       "jerseyNumber    42563\n",
       "o               42563\n",
       "dir             42563\n",
       "dtype: int64"
      ]
     },
     "execution_count": 22,
     "metadata": {},
     "output_type": "execute_result"
    }
   ],
   "source": [
    "week_8.isna().sum(axis=0)[week_8.isna().sum(axis=0) > 0]"
   ]
  }
 ],
 "metadata": {
  "kernelspec": {
   "display_name": "Python 3.9.7 ('base')",
   "language": "python",
   "name": "python3"
  },
  "language_info": {
   "codemirror_mode": {
    "name": "ipython",
    "version": 3
   },
   "file_extension": ".py",
   "mimetype": "text/x-python",
   "name": "python",
   "nbconvert_exporter": "python",
   "pygments_lexer": "ipython3",
   "version": "3.9.7"
  },
  "orig_nbformat": 4,
  "vscode": {
   "interpreter": {
    "hash": "eda7169a73b899e3a4265a2c61d87a7732123594a73e74f27b74e7579ab96fbe"
   }
  }
 },
 "nbformat": 4,
 "nbformat_minor": 2
}
